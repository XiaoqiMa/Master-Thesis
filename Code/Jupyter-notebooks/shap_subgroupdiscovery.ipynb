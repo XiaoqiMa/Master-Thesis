{
 "cells": [
  {
   "cell_type": "code",
   "execution_count": 1,
   "metadata": {
    "ExecuteTime": {
     "end_time": "2019-05-20T15:14:20.647075Z",
     "start_time": "2019-05-20T15:14:17.424498Z"
    }
   },
   "outputs": [
    {
     "name": "stderr",
     "output_type": "stream",
     "text": [
      "/anaconda3/lib/python3.6/site-packages/lightgbm/__init__.py:46: UserWarning: Starting from version 2.2.1, the library file in distribution wheels for macOS is built by the Apple Clang (Xcode_8.3.3) compiler.\n",
      "This means that in case of installing LightGBM from PyPI via the ``pip install lightgbm`` command, you don't need to install the gcc compiler anymore.\n",
      "Instead of that, you need to install the OpenMP library, which is required for running LightGBM on the system with the Apple Clang compiler.\n",
      "You can install the OpenMP library by the following command: ``brew install libomp``.\n",
      "  \"You can install the OpenMP library by the following command: ``brew install libomp``.\", UserWarning)\n"
     ]
    }
   ],
   "source": [
    "import shap\n",
    "import numpy as np\n",
    "import pysubgroup as ps\n",
    "import pandas as pd\n",
    "import lightgbm as lgb\n",
    "from sklearn.model_selection import train_test_split\n",
    "from utils import DataEncoding"
   ]
  },
  {
   "cell_type": "code",
   "execution_count": 2,
   "metadata": {
    "ExecuteTime": {
     "end_time": "2019-05-20T15:14:20.705887Z",
     "start_time": "2019-05-20T15:14:20.649251Z"
    }
   },
   "outputs": [],
   "source": [
    "class Shap_Discovery:\n",
    "\n",
    "    def __init__(self, train_data, target_data, attr, model=None):\n",
    "        self.train_data = train_data\n",
    "        self.target_data = target_data\n",
    "        self.attr = attr\n",
    "        self.model = model\n",
    "    \n",
    "    def encoding(self, data):\n",
    "        label_data = data.copy()\n",
    "        encoded_data = DataEncoding(label_data).label_encoding()\n",
    "        return encoded_data\n",
    "        \n",
    "    def train_model(self, test_size=0.3, params=None):\n",
    "        \n",
    "        X = self.encoding(self.train_data)\n",
    "        y = self.encoding(self.target_data)\n",
    "        X_train, X_test, y_train, y_test = train_test_split(X, y, test_size=test_size, random_state=7)\n",
    "        d_train = lgb.Dataset(X_train, label=y_train)\n",
    "        d_test = lgb.Dataset(X_test, label=y_test)\n",
    "\n",
    "        params_default = {\n",
    "            \"max_bin\": 512,\n",
    "            \"learning_rate\": 0.05,\n",
    "            \"boosting_type\": \"gbdt\",\n",
    "            \"objective\": \"binary\",\n",
    "            \"metric\": \"binary_logloss\",\n",
    "            \"num_leaves\": 10,\n",
    "            \"verbose\": -1,\n",
    "            \"min_data\": 100,\n",
    "            \"boost_from_average\": True\n",
    "        }\n",
    "\n",
    "        if params is None:\n",
    "            params = params_default\n",
    "            \n",
    "        model = lgb.train(params, d_train, 10000, valid_sets=[d_test], early_stopping_rounds=50, verbose_eval=1000)\n",
    "        self.model = model\n",
    "        return model\n",
    "    \n",
    "    def get_attr_shap_values(self):\n",
    "        shap_values = self.get_shap_values()\n",
    "        ind = self.train_data.columns.tolist().index(self.attr)\n",
    "        attr_shap_values = shap_values[:, ind]\n",
    "        return attr_shap_values\n",
    "    \n",
    "    def get_shap_values(self):\n",
    "        X = self.encoding(self.train_data)\n",
    "        explainer = shap.TreeExplainer(self.model)\n",
    "        shap_values = explainer.shap_values(X)\n",
    "        return shap_values\n",
    "    \n",
    "    def get_shap_summary_plot(self):\n",
    "        X = self.encoding(self.train_data)\n",
    "        shap_values = self.get_shap_values()\n",
    "        return shap.summary_plot(shap_values, X)\n",
    "        \n",
    "    def get_shap_dependence_plot(self):\n",
    "        X = self.encoding(self.train_data)\n",
    "        shap_values = self.get_shap_values()\n",
    "        for name in self.train_data.columns:\n",
    "            shap.dependence_plot(name, shap_values, X, display_features=X)\n",
    "            \n",
    "    def discovery(self):\n",
    "        attr_effect = self.get_attr_shap_values()\n",
    "        df_effect = self.train_data.copy()\n",
    "        df_effect['effect'] = attr_effect - np.mean(attr_effect)\n",
    "        target = ps.NumericTarget('effect')\n",
    "        search_space = ps.create_nominal_selectors(df_effect, ignore=['effect', self.attr])\n",
    "        task = ps.SubgroupDiscoveryTask(df_effect, target, search_space, qf=ps.StandardQFNumeric(1))\n",
    "        result = ps.BeamSearch().execute(task)\n",
    "\n",
    "        df_dis = ps.as_df(df_effect, result, statistics_to_show=ps.all_statistics_numeric)\n",
    "        return df_dis"
   ]
  },
  {
   "cell_type": "code",
   "execution_count": 3,
   "metadata": {
    "ExecuteTime": {
     "end_time": "2019-05-20T15:14:20.819252Z",
     "start_time": "2019-05-20T15:14:20.708060Z"
    }
   },
   "outputs": [],
   "source": [
    "adult_data = pd.read_csv('../Datasets/adult_train.csv', index_col=0)\n",
    "adult_data = adult_data.drop(['education'], axis=1)\n",
    "\n",
    "X = adult_data.drop('target', axis=1)\n",
    "y = adult_data[['target']]\n",
    "attr = 'education-num'"
   ]
  },
  {
   "cell_type": "code",
   "execution_count": 4,
   "metadata": {
    "ExecuteTime": {
     "end_time": "2019-05-20T15:14:22.243375Z",
     "start_time": "2019-05-20T15:14:20.820968Z"
    }
   },
   "outputs": [
    {
     "name": "stdout",
     "output_type": "stream",
     "text": [
      "Training until validation scores don't improve for 50 rounds.\n",
      "Early stopping, best iteration is:\n",
      "[795]\tvalid_0's binary_logloss: 0.2769\n"
     ]
    }
   ],
   "source": [
    "sex_discovery = Shap_Discovery(X, y, attr)\n",
    "model = sex_discovery.train_model()"
   ]
  },
  {
   "cell_type": "code",
   "execution_count": 15,
   "metadata": {
    "ExecuteTime": {
     "end_time": "2019-05-20T19:58:05.714975Z",
     "start_time": "2019-05-20T19:58:05.712227Z"
    }
   },
   "outputs": [],
   "source": [
    "pd.set_option('display.max_colwidth', -1)"
   ]
  },
  {
   "cell_type": "code",
   "execution_count": 9,
   "metadata": {
    "ExecuteTime": {
     "end_time": "2019-05-20T19:55:27.766179Z",
     "start_time": "2019-05-20T19:54:52.811054Z"
    }
   },
   "outputs": [],
   "source": [
    "sex_dis = sex_discovery.discovery()"
   ]
  },
  {
   "cell_type": "code",
   "execution_count": 18,
   "metadata": {
    "ExecuteTime": {
     "end_time": "2019-05-20T19:58:40.862577Z",
     "start_time": "2019-05-20T19:58:40.850213Z"
    }
   },
   "outputs": [
    {
     "data": {
      "text/html": [
       "<div>\n",
       "<style scoped>\n",
       "    .dataframe tbody tr th:only-of-type {\n",
       "        vertical-align: middle;\n",
       "    }\n",
       "\n",
       "    .dataframe tbody tr th {\n",
       "        vertical-align: top;\n",
       "    }\n",
       "\n",
       "    .dataframe thead th {\n",
       "        text-align: right;\n",
       "    }\n",
       "</style>\n",
       "<table border=\"1\" class=\"dataframe\">\n",
       "  <thead>\n",
       "    <tr style=\"text-align: right;\">\n",
       "      <th></th>\n",
       "      <th>quality</th>\n",
       "      <th>subgroup</th>\n",
       "      <th>mean_sg</th>\n",
       "      <th>mean_dataset</th>\n",
       "      <th>mean_lift</th>\n",
       "    </tr>\n",
       "  </thead>\n",
       "  <tbody>\n",
       "    <tr>\n",
       "      <th>0</th>\n",
       "      <td>3167.588644</td>\n",
       "      <td>occupation= Prof-specialty</td>\n",
       "      <td>0.765118</td>\n",
       "      <td>2.775472e-18</td>\n",
       "      <td>2.756713e+17</td>\n",
       "    </tr>\n",
       "    <tr>\n",
       "      <th>1</th>\n",
       "      <td>2825.186275</td>\n",
       "      <td>race= White AND occupation= Prof-specialty</td>\n",
       "      <td>0.773812</td>\n",
       "      <td>2.775472e-18</td>\n",
       "      <td>2.788036e+17</td>\n",
       "    </tr>\n",
       "    <tr>\n",
       "      <th>2</th>\n",
       "      <td>2783.454690</td>\n",
       "      <td>occupation= Prof-specialty AND native-country= United-States</td>\n",
       "      <td>0.753711</td>\n",
       "      <td>2.775472e-18</td>\n",
       "      <td>2.715613e+17</td>\n",
       "    </tr>\n",
       "    <tr>\n",
       "      <th>3</th>\n",
       "      <td>2619.158915</td>\n",
       "      <td>race= White AND occupation= Prof-specialty AND native-country= United-States</td>\n",
       "      <td>0.771930</td>\n",
       "      <td>2.775472e-18</td>\n",
       "      <td>2.781257e+17</td>\n",
       "    </tr>\n",
       "    <tr>\n",
       "      <th>4</th>\n",
       "      <td>2206.219151</td>\n",
       "      <td>occupation= Prof-specialty AND sex= Male</td>\n",
       "      <td>0.840464</td>\n",
       "      <td>2.775472e-18</td>\n",
       "      <td>3.028185e+17</td>\n",
       "    </tr>\n",
       "    <tr>\n",
       "      <th>5</th>\n",
       "      <td>1973.068997</td>\n",
       "      <td>occupation= Prof-specialty AND sex= Male AND race= White</td>\n",
       "      <td>0.840319</td>\n",
       "      <td>2.775472e-18</td>\n",
       "      <td>3.027661e+17</td>\n",
       "    </tr>\n",
       "    <tr>\n",
       "      <th>6</th>\n",
       "      <td>1904.821330</td>\n",
       "      <td>occupation= Prof-specialty AND sex= Male AND native-country= United-States</td>\n",
       "      <td>0.823528</td>\n",
       "      <td>2.775472e-18</td>\n",
       "      <td>2.967165e+17</td>\n",
       "    </tr>\n",
       "    <tr>\n",
       "      <th>7</th>\n",
       "      <td>1829.045081</td>\n",
       "      <td>marital-status= Married-civ-spouse AND occupation= Prof-specialty</td>\n",
       "      <td>0.860322</td>\n",
       "      <td>2.775472e-18</td>\n",
       "      <td>3.099733e+17</td>\n",
       "    </tr>\n",
       "    <tr>\n",
       "      <th>8</th>\n",
       "      <td>1639.707484</td>\n",
       "      <td>marital-status= Married-civ-spouse AND occupation= Prof-specialty AND race= White</td>\n",
       "      <td>0.858036</td>\n",
       "      <td>2.775472e-18</td>\n",
       "      <td>3.091497e+17</td>\n",
       "    </tr>\n",
       "    <tr>\n",
       "      <th>9</th>\n",
       "      <td>1627.696232</td>\n",
       "      <td>marital-status= Married-civ-spouse AND occupation= Prof-specialty AND sex= Male</td>\n",
       "      <td>0.897792</td>\n",
       "      <td>2.775472e-18</td>\n",
       "      <td>3.234735e+17</td>\n",
       "    </tr>\n",
       "  </tbody>\n",
       "</table>\n",
       "</div>"
      ],
      "text/plain": [
       "       quality                                                                           subgroup   mean_sg  mean_dataset     mean_lift\n",
       "0  3167.588644  occupation= Prof-specialty                                                         0.765118  2.775472e-18  2.756713e+17\n",
       "1  2825.186275  race= White AND occupation= Prof-specialty                                         0.773812  2.775472e-18  2.788036e+17\n",
       "2  2783.454690  occupation= Prof-specialty AND native-country= United-States                       0.753711  2.775472e-18  2.715613e+17\n",
       "3  2619.158915  race= White AND occupation= Prof-specialty AND native-country= United-States       0.771930  2.775472e-18  2.781257e+17\n",
       "4  2206.219151  occupation= Prof-specialty AND sex= Male                                           0.840464  2.775472e-18  3.028185e+17\n",
       "5  1973.068997  occupation= Prof-specialty AND sex= Male AND race= White                           0.840319  2.775472e-18  3.027661e+17\n",
       "6  1904.821330  occupation= Prof-specialty AND sex= Male AND native-country= United-States         0.823528  2.775472e-18  2.967165e+17\n",
       "7  1829.045081  marital-status= Married-civ-spouse AND occupation= Prof-specialty                  0.860322  2.775472e-18  3.099733e+17\n",
       "8  1639.707484  marital-status= Married-civ-spouse AND occupation= Prof-specialty AND race= White  0.858036  2.775472e-18  3.091497e+17\n",
       "9  1627.696232  marital-status= Married-civ-spouse AND occupation= Prof-specialty AND sex= Male    0.897792  2.775472e-18  3.234735e+17"
      ]
     },
     "execution_count": 18,
     "metadata": {},
     "output_type": "execute_result"
    }
   ],
   "source": [
    "sex_dis[['quality', 'subgroup', 'mean_sg', 'mean_dataset', 'mean_lift']]"
   ]
  },
  {
   "cell_type": "code",
   "execution_count": 5,
   "metadata": {
    "ExecuteTime": {
     "end_time": "2019-05-20T15:14:38.171512Z",
     "start_time": "2019-05-20T15:14:25.788786Z"
    }
   },
   "outputs": [
    {
     "data": {
      "image/png": "[encoded data removed]",
      "text/plain": [
       "<Figure size 576x482.4 with 2 Axes>"
      ]
     },
     "metadata": {
      "needs_background": "light"
     },
     "output_type": "display_data"
    }
   ],
   "source": [
    "sex_discovery.get_shap_summary_plot()"
   ]
  },
  {
   "cell_type": "code",
   "execution_count": 243,
   "metadata": {
    "ExecuteTime": {
     "end_time": "2019-05-15T14:49:33.484420Z",
     "start_time": "2019-05-15T14:49:33.481975Z"
    },
    "scrolled": false
   },
   "outputs": [],
   "source": [
    "# sex_discovery.get_shap_dependence_plot()"
   ]
  },
  {
   "cell_type": "code",
   "execution_count": 188,
   "metadata": {
    "ExecuteTime": {
     "end_time": "2019-05-15T13:50:04.384290Z",
     "start_time": "2019-05-15T13:50:04.125228Z"
    }
   },
   "outputs": [],
   "source": [
    "# adult_data = pd.read_csv('../Datasets/adult_train.csv', index_col=0)\n",
    "# adult_data = adult_data.drop(['education'], axis=1)\n",
    "# data = DataEncoding(adult_data).label_encoding()\n",
    "# df_adult = data\n",
    "\n",
    "# X = df_adult.drop('target', axis=1)\n",
    "# y = df_adult['target'].astype(bool)\n"
   ]
  },
  {
   "cell_type": "code",
   "execution_count": null,
   "metadata": {},
   "outputs": [],
   "source": []
  }
 ],
 "metadata": {
  "hide_input": false,
  "kernelspec": {
   "display_name": "Python 3",
   "language": "python",
   "name": "python3"
  },
  "language_info": {
   "codemirror_mode": {
    "name": "ipython",
    "version": 3
   },
   "file_extension": ".py",
   "mimetype": "text/x-python",
   "name": "python",
   "nbconvert_exporter": "python",
   "pygments_lexer": "ipython3",
   "version": "3.6.7"
  },
  "toc": {
   "base_numbering": 1,
   "nav_menu": {},
   "number_sections": true,
   "sideBar": true,
   "skip_h1_title": false,
   "title_cell": "Table of Contents",
   "title_sidebar": "Contents",
   "toc_cell": false,
   "toc_position": {},
   "toc_section_display": true,
   "toc_window_display": false
  }
 },
 "nbformat": 4,
 "nbformat_minor": 2
}
