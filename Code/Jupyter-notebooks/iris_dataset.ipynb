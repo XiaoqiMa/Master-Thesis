{
 "cells": [
  {
   "cell_type": "code",
   "execution_count": 5,
   "metadata": {
    "ExecuteTime": {
     "end_time": "2019-04-24T08:57:04.050655Z",
     "start_time": "2019-04-24T08:57:03.936838Z"
    }
   },
   "outputs": [],
   "source": [
    "import pandas as pd\n",
    "from sklearn.datasets import load_iris\n",
    "from sklearn.linear_model import LogisticRegression\n",
    "from sklearn.metrics import accuracy_score\n",
    "from sklearn.model_selection import train_test_split"
   ]
  },
  {
   "cell_type": "code",
   "execution_count": 6,
   "metadata": {
    "ExecuteTime": {
     "end_time": "2019-04-24T08:57:06.245832Z",
     "start_time": "2019-04-24T08:57:06.232540Z"
    }
   },
   "outputs": [
    {
     "data": {
      "text/html": [
       "<div>\n",
       "<style scoped>\n",
       "    .dataframe tbody tr th:only-of-type {\n",
       "        vertical-align: middle;\n",
       "    }\n",
       "\n",
       "    .dataframe tbody tr th {\n",
       "        vertical-align: top;\n",
       "    }\n",
       "\n",
       "    .dataframe thead th {\n",
       "        text-align: right;\n",
       "    }\n",
       "</style>\n",
       "<table border=\"1\" class=\"dataframe\">\n",
       "  <thead>\n",
       "    <tr style=\"text-align: right;\">\n",
       "      <th></th>\n",
       "      <th>sepal length</th>\n",
       "      <th>sepal width</th>\n",
       "      <th>petal length</th>\n",
       "      <th>petal width</th>\n",
       "      <th>class</th>\n",
       "    </tr>\n",
       "  </thead>\n",
       "  <tbody>\n",
       "    <tr>\n",
       "      <th>0</th>\n",
       "      <td>5.1</td>\n",
       "      <td>3.5</td>\n",
       "      <td>1.4</td>\n",
       "      <td>0.2</td>\n",
       "      <td>0</td>\n",
       "    </tr>\n",
       "    <tr>\n",
       "      <th>1</th>\n",
       "      <td>4.9</td>\n",
       "      <td>3.0</td>\n",
       "      <td>1.4</td>\n",
       "      <td>0.2</td>\n",
       "      <td>0</td>\n",
       "    </tr>\n",
       "    <tr>\n",
       "      <th>2</th>\n",
       "      <td>4.7</td>\n",
       "      <td>3.2</td>\n",
       "      <td>1.3</td>\n",
       "      <td>0.2</td>\n",
       "      <td>0</td>\n",
       "    </tr>\n",
       "    <tr>\n",
       "      <th>3</th>\n",
       "      <td>4.6</td>\n",
       "      <td>3.1</td>\n",
       "      <td>1.5</td>\n",
       "      <td>0.2</td>\n",
       "      <td>0</td>\n",
       "    </tr>\n",
       "    <tr>\n",
       "      <th>4</th>\n",
       "      <td>5.0</td>\n",
       "      <td>3.6</td>\n",
       "      <td>1.4</td>\n",
       "      <td>0.2</td>\n",
       "      <td>0</td>\n",
       "    </tr>\n",
       "  </tbody>\n",
       "</table>\n",
       "</div>"
      ],
      "text/plain": [
       "   sepal length  sepal width  petal length  petal width  class\n",
       "0           5.1          3.5           1.4          0.2      0\n",
       "1           4.9          3.0           1.4          0.2      0\n",
       "2           4.7          3.2           1.3          0.2      0\n",
       "3           4.6          3.1           1.5          0.2      0\n",
       "4           5.0          3.6           1.4          0.2      0"
      ]
     },
     "execution_count": 6,
     "metadata": {},
     "output_type": "execute_result"
    }
   ],
   "source": [
    "data = load_iris()\n",
    "df_iris = pd.DataFrame(data.data, columns = ['sepal length', 'sepal width', 'petal length', 'petal width'])\n",
    "df_iris['class'] = data.target\n",
    "df_iris.head()"
   ]
  },
  {
   "cell_type": "code",
   "execution_count": 7,
   "metadata": {
    "ExecuteTime": {
     "end_time": "2019-04-24T08:57:06.693240Z",
     "start_time": "2019-04-24T08:57:06.678149Z"
    }
   },
   "outputs": [
    {
     "data": {
      "text/plain": [
       "LogisticRegression(C=1.0, class_weight=None, dual=False, fit_intercept=True,\n",
       "          intercept_scaling=1, max_iter=100, multi_class='ovr',\n",
       "          n_jobs=None, penalty='l2', random_state=None, solver='liblinear',\n",
       "          tol=0.0001, verbose=0, warm_start=False)"
      ]
     },
     "execution_count": 7,
     "metadata": {},
     "output_type": "execute_result"
    }
   ],
   "source": [
    "iris_model = LogisticRegression(solver='liblinear', multi_class='ovr')\n",
    "iris_model.fit(df_iris.values, df_iris['class'])"
   ]
  },
  {
   "cell_type": "code",
   "execution_count": 8,
   "metadata": {
    "ExecuteTime": {
     "end_time": "2019-04-24T08:57:07.051638Z",
     "start_time": "2019-04-24T08:57:07.003975Z"
    }
   },
   "outputs": [
    {
     "data": {
      "text/plain": [
       "1.0"
      ]
     },
     "execution_count": 8,
     "metadata": {},
     "output_type": "execute_result"
    }
   ],
   "source": [
    "iris_pred = iris_model.predict(df_iris.values)\n",
    "accuracy_score(iris_pred, df_iris['class'])"
   ]
  },
  {
   "cell_type": "code",
   "execution_count": 9,
   "metadata": {
    "ExecuteTime": {
     "end_time": "2019-04-24T08:57:07.410925Z",
     "start_time": "2019-04-24T08:57:07.398351Z"
    }
   },
   "outputs": [],
   "source": [
    "X = df_iris.drop('class', axis=1).values\n",
    "Y = df_iris['class'].values\n",
    "x_train, x_test, y_train, y_test = train_test_split(X, Y, test_size=0.3, random_state=100)"
   ]
  },
  {
   "cell_type": "code",
   "execution_count": 10,
   "metadata": {
    "ExecuteTime": {
     "end_time": "2019-04-24T08:57:08.501574Z",
     "start_time": "2019-04-24T08:57:08.494928Z"
    }
   },
   "outputs": [
    {
     "data": {
      "text/plain": [
       "1.0"
      ]
     },
     "execution_count": 10,
     "metadata": {},
     "output_type": "execute_result"
    }
   ],
   "source": [
    "iris_model = LogisticRegression(solver='liblinear', multi_class='ovr')\n",
    "iris_model.fit(x_train, y_train)\n",
    "y_pred = iris_model.predict(x_test)\n",
    "accuracy_score(y_pred, y_test)"
   ]
  },
  {
   "cell_type": "code",
   "execution_count": 11,
   "metadata": {
    "ExecuteTime": {
     "end_time": "2019-04-24T08:57:09.018107Z",
     "start_time": "2019-04-24T08:57:09.004025Z"
    }
   },
   "outputs": [
    {
     "data": {
      "text/plain": [
       "0.9777777777777777"
      ]
     },
     "execution_count": 11,
     "metadata": {},
     "output_type": "execute_result"
    }
   ],
   "source": [
    "from sklearn import svm\n",
    "\n",
    "clf = svm.SVC(gamma='scale')\n",
    "clf.fit(x_train, y_train)  \n",
    "accuracy_score(clf.predict(x_test), y_test)"
   ]
  },
  {
   "cell_type": "code",
   "execution_count": 8,
   "metadata": {},
   "outputs": [
    {
     "name": "stderr",
     "output_type": "stream",
     "text": [
      "/home/xma/anaconda3/lib/python3.7/site-packages/sklearn/neural_network/multilayer_perceptron.py:562: ConvergenceWarning: Stochastic Optimizer: Maximum iterations (500) reached and the optimization hasn't converged yet.\n",
      "  % self.max_iter, ConvergenceWarning)\n"
     ]
    },
    {
     "data": {
      "text/plain": [
       "array([2, 0, 2, 0, 2, 2, 0, 0, 2, 0, 0, 2, 0, 0, 2, 1, 1, 1, 2, 2, 2, 0,\n",
       "       2, 0, 1, 2, 1, 0, 1, 2, 1, 1, 2, 0, 0, 1, 0, 1, 2, 2, 0, 1, 2, 2,\n",
       "       0])"
      ]
     },
     "execution_count": 8,
     "metadata": {},
     "output_type": "execute_result"
    }
   ],
   "source": [
    "from sklearn.neural_network import MLPClassifier\n",
    "\n",
    "nn_clf = MLPClassifier(activation='relu', max_iter=500, hidden_layer_sizes=(20, 30))\n",
    "nn_clf.fit(x_train, y_train)\n",
    "nn_clf.predict(x_test)"
   ]
  },
  {
   "cell_type": "code",
   "execution_count": 9,
   "metadata": {},
   "outputs": [
    {
     "data": {
      "text/plain": [
       "array([[6.30044005e-06, 2.22701502e-03, 9.97766685e-01],\n",
       "       [9.99364466e-01, 6.35524140e-04, 9.78940166e-09],\n",
       "       [1.85398347e-07, 8.06127285e-05, 9.99919202e-01],\n",
       "       [9.99921320e-01, 7.86799579e-05, 1.65924620e-10],\n",
       "       [4.00022975e-04, 2.33131240e-01, 7.66468737e-01],\n",
       "       [6.41288023e-06, 6.25311229e-03, 9.93740475e-01],\n",
       "       [9.99917219e-01, 8.27809209e-05, 4.18789521e-10],\n",
       "       [9.99221452e-01, 7.78532520e-04, 1.55648492e-08],\n",
       "       [9.77898034e-05, 5.32090830e-02, 9.46693127e-01],\n",
       "       [9.98890408e-01, 1.10956683e-03, 2.54733767e-08],\n",
       "       [9.99733931e-01, 2.66065920e-04, 3.01390763e-09],\n",
       "       [1.57273871e-05, 8.80815246e-03, 9.91176120e-01],\n",
       "       [9.98907173e-01, 1.09281241e-03, 1.42937006e-08],\n",
       "       [9.99700556e-01, 2.99441175e-04, 2.87607090e-09],\n",
       "       [2.92597290e-05, 2.16474868e-02, 9.78323254e-01],\n",
       "       [8.08122072e-04, 9.97063589e-01, 2.12828899e-03],\n",
       "       [1.19050406e-03, 9.97410090e-01, 1.39940624e-03],\n",
       "       [6.97125505e-04, 7.90902847e-01, 2.08400027e-01],\n",
       "       [2.32739344e-06, 1.32571732e-03, 9.98671955e-01],\n",
       "       [3.33814940e-05, 2.25794765e-02, 9.77387142e-01],\n",
       "       [9.07258343e-05, 8.10610583e-02, 9.18848216e-01],\n",
       "       [9.99310275e-01, 6.89719869e-04, 5.33079242e-09],\n",
       "       [1.09203396e-04, 4.64471233e-02, 9.53443673e-01],\n",
       "       [9.99023993e-01, 9.75986787e-04, 2.04901781e-08],\n",
       "       [1.43944069e-03, 9.96344294e-01, 2.21626560e-03],\n",
       "       [1.27854925e-04, 5.17069327e-02, 9.48165212e-01],\n",
       "       [5.55331066e-04, 9.98232163e-01, 1.21250624e-03],\n",
       "       [9.99353275e-01, 6.46720430e-04, 4.76988158e-09],\n",
       "       [1.24203116e-03, 9.69750254e-01, 2.90077148e-02],\n",
       "       [7.51863534e-06, 5.21835988e-03, 9.94774121e-01],\n",
       "       [1.57933182e-03, 9.97671817e-01, 7.48851220e-04],\n",
       "       [1.30041380e-03, 9.93114641e-01, 5.58494551e-03],\n",
       "       [3.17404870e-04, 8.61051149e-02, 9.13577480e-01],\n",
       "       [9.99404528e-01, 5.95459127e-04, 1.31837065e-08],\n",
       "       [9.99866224e-01, 1.33775831e-04, 6.57386596e-10],\n",
       "       [6.64092764e-04, 9.95548795e-01, 3.78711183e-03],\n",
       "       [9.99744012e-01, 2.55985862e-04, 1.87051897e-09],\n",
       "       [1.80797858e-03, 9.76999847e-01, 2.11921740e-02],\n",
       "       [3.31887660e-06, 1.57208664e-03, 9.98424594e-01],\n",
       "       [3.05350130e-06, 8.87204510e-04, 9.99109742e-01],\n",
       "       [9.95691127e-01, 4.30858560e-03, 2.87462282e-07],\n",
       "       [2.06212856e-03, 9.08693800e-01, 8.92440717e-02],\n",
       "       [1.17475812e-05, 7.63514078e-03, 9.92353112e-01],\n",
       "       [1.91466187e-06, 1.75557819e-03, 9.98242507e-01],\n",
       "       [9.99815119e-01, 1.84878875e-04, 2.13055820e-09]])"
      ]
     },
     "execution_count": 9,
     "metadata": {},
     "output_type": "execute_result"
    }
   ],
   "source": [
    "nn_clf.predict_proba(x_test)"
   ]
  },
  {
   "cell_type": "code",
   "execution_count": 10,
   "metadata": {},
   "outputs": [
    {
     "data": {
      "text/plain": [
       "1.0"
      ]
     },
     "execution_count": 10,
     "metadata": {},
     "output_type": "execute_result"
    }
   ],
   "source": [
    "accuracy_score(nn_clf.predict(x_test), y_test)"
   ]
  },
  {
   "cell_type": "code",
   "execution_count": 11,
   "metadata": {},
   "outputs": [
    {
     "data": {
      "text/plain": [
       "array([2, 0, 2, 0, 2, 2, 0, 0, 2, 0, 0, 2, 0, 0, 2, 1, 1, 1, 2, 2, 2, 0,\n",
       "       2, 0, 1, 2, 1, 0, 1, 2, 1, 1, 2, 0, 0, 1, 0, 1, 2, 2, 0, 1, 2, 2,\n",
       "       0])"
      ]
     },
     "execution_count": 11,
     "metadata": {},
     "output_type": "execute_result"
    }
   ],
   "source": [
    "nn_clf.predict(x_test)"
   ]
  },
  {
   "cell_type": "code",
   "execution_count": 3,
   "metadata": {
    "scrolled": false
   },
   "outputs": [
    {
     "name": "stderr",
     "output_type": "stream",
     "text": [
      "/home/xma/anaconda3/lib/python3.7/site-packages/sklearn/preprocessing/_encoders.py:371: FutureWarning: The handling of integer data will change in version 0.22. Currently, the categories are determined based on the range [0, max(values)], while in the future they will be determined based on the unique values.\n",
      "If you want the future behaviour and silence this warning, you can specify \"categories='auto'\".\n",
      "In case you used a LabelEncoder before this OneHotEncoder to convert the categories to integers, then you can now use the OneHotEncoder directly.\n",
      "  warnings.warn(msg, FutureWarning)\n"
     ]
    },
    {
     "name": "stdout",
     "output_type": "stream",
     "text": [
      "Begin training...\n"
     ]
    }
   ],
   "source": [
    "import numpy as np\n",
    "from sklearn.datasets import load_wine\n",
    "from sklearn.preprocessing import MinMaxScaler, OneHotEncoder\n",
    "from keras.layers import Dense, Input, concatenate, Dropout\n",
    "from keras.models import Model\n",
    "from keras.optimizers import rmsprop\n",
    "\n",
    "dataset = load_wine()\n",
    "\n",
    "ensemble_num = 10 # number of sub-networks\n",
    "bootstrap_size = 0.8 # 80% size of original (training) dataset\n",
    "training_size = 0.8 # 80% for training, 20% for test\n",
    "\n",
    "num_hidden_neurons = 10 # number of neurons in hidden layer\n",
    "dropout = 0.25 # percentage of weights dropped out before softmax output (this prevents overfitting)\n",
    "\n",
    "epochs = 200 # number of epochs (complete training episodes over the training set) to run\n",
    "batch = 10 # mini batch size for better convergence\n",
    "\n",
    "# get the holdout training and test set\n",
    "temp = []\n",
    "scaler = MinMaxScaler()\n",
    "one_hot = OneHotEncoder() # one hot encode the target classes\n",
    "dataset['data'] = scaler.fit_transform(dataset['data'])\n",
    "dataset['target'] = one_hot.fit_transform(np.reshape(dataset['target'], (-1,1)) ).toarray()\n",
    "for i in range(len(dataset.data)):\n",
    "    temp.append([dataset['data'][i], np.array(dataset['target'][i])])\n",
    "\n",
    "# shuffle the row of data and targets\n",
    "temp = np.array(temp)\n",
    "np.random.shuffle(temp)\n",
    "# holdout training and test stop index\n",
    "stop = int(training_size*len(dataset.data))\n",
    "\n",
    "train_X = np.array([x for x in temp[:stop,0]])\n",
    "train_Y = np.array([x for x in temp[:stop,1]])\n",
    "test_X = np.array([x for x in temp[stop:,0]])\n",
    "test_Y = np.array([x for x in temp[stop:,1]])\n",
    "\n",
    "# now build the ensemble neural network\n",
    "# first, let's build the individual sub-networks, each\n",
    "# as a Keras functional model.\n",
    "sub_net_outputs = []\n",
    "sub_net_inputs = []\n",
    "for i in range(ensemble_num):\n",
    "    # two hidden layers to keep it simple\n",
    "    # specify input shape to the shape of the training set\n",
    "    net_input = Input(shape = (train_X.shape[1],))\n",
    "    sub_net_inputs.append(net_input)\n",
    "    y = Dense(num_hidden_neurons)(net_input)\n",
    "    y = Dense(num_hidden_neurons)(y)\n",
    "    y = Dropout(dropout)(y)\n",
    "    sub_net_outputs.append(y) # sub_nets contains the output tensors\n",
    "\n",
    "# now concatenate the output tensors\n",
    "y = concatenate(sub_net_outputs)\n",
    "\n",
    "# final softmax output layer\n",
    "y = Dense(train_Y[0].shape[0], activation='softmax')(y)\n",
    "\n",
    "# now build the whole funtional model\n",
    "model = Model(inputs=sub_net_inputs, outputs=y)\n",
    "model.compile(optimizer='rmsprop', loss='categorical_crossentropy')\n",
    "\n",
    "print(\"Begin training...\")\n",
    "\n",
    "# train the model\n",
    "# model.fit( [train_X] * ensemble_num, train_Y,validation_data=[ [test_X] * ensemble_num, test_Y],\n",
    "#           epochs=epochs, batch_size=batch)"
   ]
  },
  {
   "cell_type": "code",
   "execution_count": null,
   "metadata": {},
   "outputs": [],
   "source": []
  }
 ],
 "metadata": {
  "kernelspec": {
   "display_name": "Python 3",
   "language": "python",
   "name": "python3"
  },
  "language_info": {
   "codemirror_mode": {
    "name": "ipython",
    "version": 3
   },
   "file_extension": ".py",
   "mimetype": "text/x-python",
   "name": "python",
   "nbconvert_exporter": "python",
   "pygments_lexer": "ipython3",
   "version": "3.6.8"
  },
  "toc": {
   "base_numbering": 1,
   "nav_menu": {},
   "number_sections": true,
   "sideBar": true,
   "skip_h1_title": false,
   "title_cell": "Table of Contents",
   "title_sidebar": "Contents",
   "toc_cell": false,
   "toc_position": {},
   "toc_section_display": true,
   "toc_window_display": false
  }
 },
 "nbformat": 4,
 "nbformat_minor": 2
}
