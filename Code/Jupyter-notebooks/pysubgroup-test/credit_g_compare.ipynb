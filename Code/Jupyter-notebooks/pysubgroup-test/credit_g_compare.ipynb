{
 "cells": [
  {
   "cell_type": "code",
   "execution_count": 1,
   "metadata": {},
   "outputs": [],
   "source": [
    "from scipy.io import arff\n",
    "import pysubgroup as ps\n",
    "import pandas as pd\n",
    "\n",
    "data = pd.DataFrame (arff.loadarff(\"/Users/lemmerich/Documents/data/data/credit-g.arff\") [0])\n",
    "\n",
    "target = ps.NominalTarget('class', b'bad')\n",
    "searchSpace = ps.createSelectors(data, ignore=['class'])\n",
    "task = ps.SubgroupDiscoveryTask (data, target, searchSpace, resultSetSize=10, depth=5, qf=ps.StandardQF(1))\n"
   ]
  },
  {
   "cell_type": "code",
   "execution_count": 2,
   "metadata": {
    "scrolled": true
   },
   "outputs": [
    {
     "name": "stdout",
     "output_type": "stream",
     "text": [
      "CPU times: user 4.78 s, sys: 27.9 ms, total: 4.81 s\n",
      "Wall time: 5 s\n",
      "0.0553:\tchecking_status=b\"'<0'\" AND foreign_worker=b'yes'\n",
      "0.0528:\tchecking_status=b\"'<0'\"\n",
      "0.0523:\tchecking_status=b\"'<0'\" AND foreign_worker=b'yes' AND other_parties=b'none'\n",
      "0.0506:\tchecking_status=b\"'<0'\" AND other_parties=b'none'\n",
      "0.0496:\tsavings_status=b\"'<100'\" AND foreign_worker=b'yes' AND checking_status=b\"'<0'\"\n",
      "0.0487:\tchecking_status=b\"'<0'\" AND foreign_worker=b'yes' AND num_dependents=1.0\n",
      "0.0483:\tchecking_status=b\"'<0'\" AND savings_status=b\"'<100'\"\n",
      "0.0474:\tchecking_status=b\"'<0'\" AND num_dependents=1.0\n",
      "0.0466:\tchecking_status=b\"'<0'\" AND savings_status=b\"'<100'\" AND other_parties=b'none' AND foreign_worker=b'yes'\n",
      "0.0455:\tchecking_status=b\"'<0'\" AND job=b'skilled' AND foreign_worker=b'yes'\n"
     ]
    }
   ],
   "source": [
    "%time result = ps.BeamSearch().execute(task)\n",
    "for (q, sg) in result:\n",
    "    print (str(q) + \":\\t\" + str(sg.subgroupDescription))  "
   ]
  },
  {
   "cell_type": "code",
   "execution_count": 3,
   "metadata": {},
   "outputs": [
    {
     "name": "stdout",
     "output_type": "stream",
     "text": [
      "CPU times: user 4.2 s, sys: 14.8 ms, total: 4.21 s\n",
      "Wall time: 4.38 s\n",
      "0.0553:\tchecking_status=b\"'<0'\" AND foreign_worker=b'yes'\n",
      "0.0528:\tchecking_status=b\"'<0'\"\n",
      "0.0523:\tchecking_status=b\"'<0'\" AND other_parties=b'none' AND foreign_worker=b'yes'\n",
      "0.0506:\tchecking_status=b\"'<0'\" AND other_parties=b'none'\n",
      "0.0496:\tchecking_status=b\"'<0'\" AND savings_status=b\"'<100'\" AND foreign_worker=b'yes'\n",
      "0.0487:\tchecking_status=b\"'<0'\" AND foreign_worker=b'yes' AND num_dependents=1.0\n",
      "0.0483:\tchecking_status=b\"'<0'\" AND savings_status=b\"'<100'\"\n",
      "0.0474:\tchecking_status=b\"'<0'\" AND num_dependents=1.0\n",
      "0.0466:\tchecking_status=b\"'<0'\" AND savings_status=b\"'<100'\" AND other_parties=b'none' AND foreign_worker=b'yes'\n",
      "0.0455:\tchecking_status=b\"'<0'\" AND job=b'skilled' AND foreign_worker=b'yes'\n"
     ]
    }
   ],
   "source": [
    "%time result = ps.BSD().execute(task)\n",
    "for (q, sg) in result:\n",
    "    print (str(q) + \":\\t\" + str(sg.subgroupDescription))   "
   ]
  },
  {
   "cell_type": "code",
   "execution_count": 4,
   "metadata": {},
   "outputs": [
    {
     "data": {
      "text/html": [
       "<div>\n",
       "<style scoped>\n",
       "    .dataframe tbody tr th:only-of-type {\n",
       "        vertical-align: middle;\n",
       "    }\n",
       "\n",
       "    .dataframe tbody tr th {\n",
       "        vertical-align: top;\n",
       "    }\n",
       "\n",
       "    .dataframe thead th {\n",
       "        text-align: right;\n",
       "    }\n",
       "</style>\n",
       "<table border=\"1\" class=\"dataframe\">\n",
       "  <thead>\n",
       "    <tr style=\"text-align: right;\">\n",
       "      <th></th>\n",
       "      <th>subgroup</th>\n",
       "      <th>size_sg</th>\n",
       "      <th>target_share_sg</th>\n",
       "      <th>lift</th>\n",
       "    </tr>\n",
       "  </thead>\n",
       "  <tbody>\n",
       "    <tr>\n",
       "      <th>0</th>\n",
       "      <td>checking_status=b\"'&lt;0'\" AND foreign_worker=b'yes'</td>\n",
       "      <td>259.0</td>\n",
       "      <td>0.513514</td>\n",
       "      <td>1.711712</td>\n",
       "    </tr>\n",
       "    <tr>\n",
       "      <th>1</th>\n",
       "      <td>checking_status=b\"'&lt;0'\"</td>\n",
       "      <td>274.0</td>\n",
       "      <td>0.492701</td>\n",
       "      <td>1.642336</td>\n",
       "    </tr>\n",
       "    <tr>\n",
       "      <th>2</th>\n",
       "      <td>checking_status=b\"'&lt;0'\" AND other_parties=b'no...</td>\n",
       "      <td>229.0</td>\n",
       "      <td>0.528384</td>\n",
       "      <td>1.761281</td>\n",
       "    </tr>\n",
       "    <tr>\n",
       "      <th>3</th>\n",
       "      <td>checking_status=b\"'&lt;0'\" AND other_parties=b'none'</td>\n",
       "      <td>238.0</td>\n",
       "      <td>0.512605</td>\n",
       "      <td>1.708683</td>\n",
       "    </tr>\n",
       "    <tr>\n",
       "      <th>4</th>\n",
       "      <td>checking_status=b\"'&lt;0'\" AND savings_status=b\"'...</td>\n",
       "      <td>208.0</td>\n",
       "      <td>0.538462</td>\n",
       "      <td>1.794872</td>\n",
       "    </tr>\n",
       "    <tr>\n",
       "      <th>5</th>\n",
       "      <td>checking_status=b\"'&lt;0'\" AND foreign_worker=b'y...</td>\n",
       "      <td>211.0</td>\n",
       "      <td>0.530806</td>\n",
       "      <td>1.769352</td>\n",
       "    </tr>\n",
       "    <tr>\n",
       "      <th>6</th>\n",
       "      <td>checking_status=b\"'&lt;0'\" AND savings_status=b\"'...</td>\n",
       "      <td>219.0</td>\n",
       "      <td>0.520548</td>\n",
       "      <td>1.735160</td>\n",
       "    </tr>\n",
       "    <tr>\n",
       "      <th>7</th>\n",
       "      <td>checking_status=b\"'&lt;0'\" AND num_dependents=1.0</td>\n",
       "      <td>222.0</td>\n",
       "      <td>0.513514</td>\n",
       "      <td>1.711712</td>\n",
       "    </tr>\n",
       "    <tr>\n",
       "      <th>8</th>\n",
       "      <td>checking_status=b\"'&lt;0'\" AND savings_status=b\"'...</td>\n",
       "      <td>178.0</td>\n",
       "      <td>0.561798</td>\n",
       "      <td>1.872659</td>\n",
       "    </tr>\n",
       "    <tr>\n",
       "      <th>9</th>\n",
       "      <td>checking_status=b\"'&lt;0'\" AND job=b'skilled' AND...</td>\n",
       "      <td>165.0</td>\n",
       "      <td>0.575758</td>\n",
       "      <td>1.919192</td>\n",
       "    </tr>\n",
       "  </tbody>\n",
       "</table>\n",
       "</div>"
      ],
      "text/plain": [
       "                                            subgroup  size_sg  \\\n",
       "0  checking_status=b\"'<0'\" AND foreign_worker=b'yes'    259.0   \n",
       "1                            checking_status=b\"'<0'\"    274.0   \n",
       "2  checking_status=b\"'<0'\" AND other_parties=b'no...    229.0   \n",
       "3  checking_status=b\"'<0'\" AND other_parties=b'none'    238.0   \n",
       "4  checking_status=b\"'<0'\" AND savings_status=b\"'...    208.0   \n",
       "5  checking_status=b\"'<0'\" AND foreign_worker=b'y...    211.0   \n",
       "6  checking_status=b\"'<0'\" AND savings_status=b\"'...    219.0   \n",
       "7     checking_status=b\"'<0'\" AND num_dependents=1.0    222.0   \n",
       "8  checking_status=b\"'<0'\" AND savings_status=b\"'...    178.0   \n",
       "9  checking_status=b\"'<0'\" AND job=b'skilled' AND...    165.0   \n",
       "\n",
       "   target_share_sg      lift  \n",
       "0         0.513514  1.711712  \n",
       "1         0.492701  1.642336  \n",
       "2         0.528384  1.761281  \n",
       "3         0.512605  1.708683  \n",
       "4         0.538462  1.794872  \n",
       "5         0.530806  1.769352  \n",
       "6         0.520548  1.735160  \n",
       "7         0.513514  1.711712  \n",
       "8         0.561798  1.872659  \n",
       "9         0.575758  1.919192  "
      ]
     },
     "execution_count": 4,
     "metadata": {},
     "output_type": "execute_result"
    }
   ],
   "source": [
    "df = ps.as_df(data, result)\n",
    "df_key = df[[\"subgroup\",\"size_sg\", \"target_share_sg\", \"lift\"]]\n",
    "df_key"
   ]
  },
  {
   "cell_type": "code",
   "execution_count": 5,
   "metadata": {},
   "outputs": [
    {
     "data": {
      "image/png": "[encoded data removed]",
      "text/plain": [
       "<matplotlib.figure.Figure at 0x1a0af53588>"
      ]
     },
     "metadata": {},
     "output_type": "display_data"
    },
    {
     "data": {
      "image/png": "[encoded data removed]",
      "text/plain": [
       "<matplotlib.figure.Figure at 0x1a0af53780>"
      ]
     },
     "metadata": {},
     "output_type": "display_data"
    },
    {
     "data": {
      "image/png": "[encoded data removed]",
      "text/plain": [
       "<matplotlib.figure.Figure at 0x1a0b021a58>"
      ]
     },
     "metadata": {},
     "output_type": "display_data"
    }
   ],
   "source": [
    "fig = ps.plot_roc(df, data, ps.StandardQF(1), annotate=True)\n",
    "\n",
    "fig = ps.similarity_sgs(result, data)\n",
    "\n",
    "fig = ps.similarity_dendrogram(result, data)\n",
    "\n",
    "fig = ps.plot_npspace(df, data, fixed_limits=False)\n"
   ]
  },
  {
   "cell_type": "code",
   "execution_count": null,
   "metadata": {},
   "outputs": [],
   "source": []
  }
 ],
 "metadata": {
  "kernelspec": {
   "display_name": "Python 3",
   "language": "python",
   "name": "python3"
  },
  "language_info": {
   "codemirror_mode": {
    "name": "ipython",
    "version": 3
   },
   "file_extension": ".py",
   "mimetype": "text/x-python",
   "name": "python",
   "nbconvert_exporter": "python",
   "pygments_lexer": "ipython3",
   "version": "3.6.7"
  },
  "toc": {
   "base_numbering": 1,
   "nav_menu": {},
   "number_sections": true,
   "sideBar": true,
   "skip_h1_title": false,
   "title_cell": "Table of Contents",
   "title_sidebar": "Contents",
   "toc_cell": false,
   "toc_position": {},
   "toc_section_display": true,
   "toc_window_display": false
  }
 },
 "nbformat": 4,
 "nbformat_minor": 2
}
