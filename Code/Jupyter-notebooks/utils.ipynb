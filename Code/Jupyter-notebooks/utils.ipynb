{
 "cells": [
  {
   "cell_type": "code",
   "execution_count": 1,
   "metadata": {
    "ExecuteTime": {
     "end_time": "2019-05-15T09:37:22.399738Z",
     "start_time": "2019-05-15T09:37:21.311219Z"
    }
   },
   "outputs": [],
   "source": [
    "from collections import defaultdict\n",
    "from pandas.api.types import is_string_dtype\n",
    "from pandas.api.types import is_numeric_dtype\n",
    "from sklearn.preprocessing import LabelEncoder\n",
    "from sklearn import preprocessing\n",
    "class DataEncoding:\n",
    "\n",
    "    def __init__(self, data):\n",
    "        self.data = data\n",
    "            \n",
    "    def get_cat_features(self, data):\n",
    "        cat_features = [c for c in data.columns if is_string_dtype(data[c])]\n",
    "        return cat_features\n",
    "    \n",
    "    def get_num_features(self, data):\n",
    "        num_features = [c for c in data.columns if is_numeric_dtype(data[c])]\n",
    "        return num_features\n",
    "    \n",
    "    def label_encoding(self):\n",
    "        d = defaultdict(LabelEncoder)\n",
    "        cat_features = self.get_cat_features(self.data)\n",
    "        df = self.data.copy()\n",
    "        for name in cat_features:\n",
    "            df[name] = df[[name]].apply(lambda x: d[name].fit_transform(x))\n",
    "        return df\n",
    "            \n",
    "    def discretization(self, quantiles=10):\n",
    "        num_features = self.get_num_features(self.data)\n",
    "        df = self.data.copy()\n",
    "        for name in num_features:\n",
    "            df[name] = pd.qcut(df[name], quantiles , duplicates='drop').astype(str)\n",
    "        return df\n",
    "    \n",
    "    def onehot_encoding(self):\n",
    "        df = self.data.copy()\n",
    "        return pd.get_dummies(df)"
   ]
  },
  {
   "cell_type": "code",
   "execution_count": null,
   "metadata": {},
   "outputs": [],
   "source": []
  }
 ],
 "metadata": {
  "hide_input": false,
  "kernelspec": {
   "display_name": "Python 3",
   "language": "python",
   "name": "python3"
  },
  "language_info": {
   "codemirror_mode": {
    "name": "ipython",
    "version": 3
   },
   "file_extension": ".py",
   "mimetype": "text/x-python",
   "name": "python",
   "nbconvert_exporter": "python",
   "pygments_lexer": "ipython3",
   "version": "3.6.7"
  },
  "toc": {
   "base_numbering": 1,
   "nav_menu": {},
   "number_sections": true,
   "sideBar": true,
   "skip_h1_title": false,
   "title_cell": "Table of Contents",
   "title_sidebar": "Contents",
   "toc_cell": false,
   "toc_position": {},
   "toc_section_display": true,
   "toc_window_display": false
  }
 },
 "nbformat": 4,
 "nbformat_minor": 2
}
