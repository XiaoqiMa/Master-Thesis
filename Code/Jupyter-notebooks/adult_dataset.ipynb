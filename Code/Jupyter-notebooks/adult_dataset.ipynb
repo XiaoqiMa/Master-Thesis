{
 "cells": [
  {
   "cell_type": "code",
   "execution_count": 1,
   "metadata": {
    "ExecuteTime": {
     "end_time": "2019-04-30T09:36:52.808617Z",
     "start_time": "2019-04-30T09:36:52.423396Z"
    }
   },
   "outputs": [],
   "source": [
    "import pandas as pd\n",
    "import numpy as np"
   ]
  },
  {
   "cell_type": "code",
   "execution_count": 2,
   "metadata": {
    "ExecuteTime": {
     "end_time": "2019-04-30T09:37:18.224343Z",
     "start_time": "2019-04-30T09:37:18.052917Z"
    }
   },
   "outputs": [],
   "source": [
    "names = ['age', 'work-class', 'fnlwgt', 'education', 'education-num', 'marital-status', 'occupation', \n",
    "         'relationship', 'race', 'sex', 'capital-gain', 'capital-loss', 'hours-per-week', 'native-country',\n",
    "         'target']\n",
    "adult_data = pd.read_csv('../Datasets/adult.data', header=None)\n",
    "adult_data.columns = names\n",
    "\n",
    "adult_test = pd.read_csv('../Datasets/adult.test', header=None)\n",
    "adult_test.columns = names\n",
    "\n",
    "adult_data = adult_data.replace({' ?':np.nan}).dropna()\n",
    "adult_test = adult_test.replace({' ?':np.nan}).dropna()\n",
    "adult_data.head()"
   ]
  },
  {
   "cell_type": "code",
   "execution_count": 4,
   "metadata": {
    "ExecuteTime": {
     "end_time": "2019-04-30T09:38:56.717112Z",
     "start_time": "2019-04-30T09:38:56.219603Z"
    }
   },
   "outputs": [],
   "source": [
    "# adult_data.to_csv('../Datasets/adult_train.csv')\n",
    "# adult_test.to_csv('../Datasets/adult_test.csv')"
   ]
  },
  {
   "cell_type": "code",
   "execution_count": 30,
   "metadata": {
    "ExecuteTime": {
     "end_time": "2019-04-24T12:10:27.318031Z",
     "start_time": "2019-04-24T12:10:27.262632Z"
    }
   },
   "outputs": [
    {
     "data": {
      "text/html": [
       "<div>\n",
       "<style scoped>\n",
       "    .dataframe tbody tr th:only-of-type {\n",
       "        vertical-align: middle;\n",
       "    }\n",
       "\n",
       "    .dataframe tbody tr th {\n",
       "        vertical-align: top;\n",
       "    }\n",
       "\n",
       "    .dataframe thead th {\n",
       "        text-align: right;\n",
       "    }\n",
       "</style>\n",
       "<table border=\"1\" class=\"dataframe\">\n",
       "  <thead>\n",
       "    <tr style=\"text-align: right;\">\n",
       "      <th></th>\n",
       "      <th>work-class_ Local-gov</th>\n",
       "      <th>work-class_ Private</th>\n",
       "      <th>work-class_ Self-emp-inc</th>\n",
       "      <th>work-class_ Self-emp-not-inc</th>\n",
       "      <th>work-class_ State-gov</th>\n",
       "      <th>work-class_ Without-pay</th>\n",
       "      <th>education_ 11th</th>\n",
       "      <th>education_ 12th</th>\n",
       "      <th>education_ 1st-4th</th>\n",
       "      <th>education_ 5th-6th</th>\n",
       "      <th>...</th>\n",
       "      <th>relationship_ Not-in-family</th>\n",
       "      <th>relationship_ Other-relative</th>\n",
       "      <th>relationship_ Own-child</th>\n",
       "      <th>relationship_ Unmarried</th>\n",
       "      <th>relationship_ Wife</th>\n",
       "      <th>race_ Asian-Pac-Islander</th>\n",
       "      <th>race_ Black</th>\n",
       "      <th>race_ Other</th>\n",
       "      <th>race_ White</th>\n",
       "      <th>sex_ Male</th>\n",
       "    </tr>\n",
       "  </thead>\n",
       "  <tbody>\n",
       "    <tr>\n",
       "      <th>0</th>\n",
       "      <td>0</td>\n",
       "      <td>0</td>\n",
       "      <td>0</td>\n",
       "      <td>0</td>\n",
       "      <td>1</td>\n",
       "      <td>0</td>\n",
       "      <td>0</td>\n",
       "      <td>0</td>\n",
       "      <td>0</td>\n",
       "      <td>0</td>\n",
       "      <td>...</td>\n",
       "      <td>1</td>\n",
       "      <td>0</td>\n",
       "      <td>0</td>\n",
       "      <td>0</td>\n",
       "      <td>0</td>\n",
       "      <td>0</td>\n",
       "      <td>0</td>\n",
       "      <td>0</td>\n",
       "      <td>1</td>\n",
       "      <td>1</td>\n",
       "    </tr>\n",
       "    <tr>\n",
       "      <th>1</th>\n",
       "      <td>0</td>\n",
       "      <td>0</td>\n",
       "      <td>0</td>\n",
       "      <td>1</td>\n",
       "      <td>0</td>\n",
       "      <td>0</td>\n",
       "      <td>0</td>\n",
       "      <td>0</td>\n",
       "      <td>0</td>\n",
       "      <td>0</td>\n",
       "      <td>...</td>\n",
       "      <td>0</td>\n",
       "      <td>0</td>\n",
       "      <td>0</td>\n",
       "      <td>0</td>\n",
       "      <td>0</td>\n",
       "      <td>0</td>\n",
       "      <td>0</td>\n",
       "      <td>0</td>\n",
       "      <td>1</td>\n",
       "      <td>1</td>\n",
       "    </tr>\n",
       "    <tr>\n",
       "      <th>2</th>\n",
       "      <td>0</td>\n",
       "      <td>1</td>\n",
       "      <td>0</td>\n",
       "      <td>0</td>\n",
       "      <td>0</td>\n",
       "      <td>0</td>\n",
       "      <td>0</td>\n",
       "      <td>0</td>\n",
       "      <td>0</td>\n",
       "      <td>0</td>\n",
       "      <td>...</td>\n",
       "      <td>1</td>\n",
       "      <td>0</td>\n",
       "      <td>0</td>\n",
       "      <td>0</td>\n",
       "      <td>0</td>\n",
       "      <td>0</td>\n",
       "      <td>0</td>\n",
       "      <td>0</td>\n",
       "      <td>1</td>\n",
       "      <td>1</td>\n",
       "    </tr>\n",
       "    <tr>\n",
       "      <th>3</th>\n",
       "      <td>0</td>\n",
       "      <td>1</td>\n",
       "      <td>0</td>\n",
       "      <td>0</td>\n",
       "      <td>0</td>\n",
       "      <td>0</td>\n",
       "      <td>1</td>\n",
       "      <td>0</td>\n",
       "      <td>0</td>\n",
       "      <td>0</td>\n",
       "      <td>...</td>\n",
       "      <td>0</td>\n",
       "      <td>0</td>\n",
       "      <td>0</td>\n",
       "      <td>0</td>\n",
       "      <td>0</td>\n",
       "      <td>0</td>\n",
       "      <td>1</td>\n",
       "      <td>0</td>\n",
       "      <td>0</td>\n",
       "      <td>1</td>\n",
       "    </tr>\n",
       "    <tr>\n",
       "      <th>4</th>\n",
       "      <td>0</td>\n",
       "      <td>1</td>\n",
       "      <td>0</td>\n",
       "      <td>0</td>\n",
       "      <td>0</td>\n",
       "      <td>0</td>\n",
       "      <td>0</td>\n",
       "      <td>0</td>\n",
       "      <td>0</td>\n",
       "      <td>0</td>\n",
       "      <td>...</td>\n",
       "      <td>0</td>\n",
       "      <td>0</td>\n",
       "      <td>0</td>\n",
       "      <td>0</td>\n",
       "      <td>1</td>\n",
       "      <td>0</td>\n",
       "      <td>1</td>\n",
       "      <td>0</td>\n",
       "      <td>0</td>\n",
       "      <td>0</td>\n",
       "    </tr>\n",
       "  </tbody>\n",
       "</table>\n",
       "<p>5 rows × 50 columns</p>\n",
       "</div>"
      ],
      "text/plain": [
       "   work-class_ Local-gov  work-class_ Private  work-class_ Self-emp-inc  \\\n",
       "0                      0                    0                         0   \n",
       "1                      0                    0                         0   \n",
       "2                      0                    1                         0   \n",
       "3                      0                    1                         0   \n",
       "4                      0                    1                         0   \n",
       "\n",
       "   work-class_ Self-emp-not-inc  work-class_ State-gov  \\\n",
       "0                             0                      1   \n",
       "1                             1                      0   \n",
       "2                             0                      0   \n",
       "3                             0                      0   \n",
       "4                             0                      0   \n",
       "\n",
       "   work-class_ Without-pay  education_ 11th  education_ 12th  \\\n",
       "0                        0                0                0   \n",
       "1                        0                0                0   \n",
       "2                        0                0                0   \n",
       "3                        0                1                0   \n",
       "4                        0                0                0   \n",
       "\n",
       "   education_ 1st-4th  education_ 5th-6th  ...  relationship_ Not-in-family  \\\n",
       "0                   0                   0  ...                            1   \n",
       "1                   0                   0  ...                            0   \n",
       "2                   0                   0  ...                            1   \n",
       "3                   0                   0  ...                            0   \n",
       "4                   0                   0  ...                            0   \n",
       "\n",
       "   relationship_ Other-relative  relationship_ Own-child  \\\n",
       "0                             0                        0   \n",
       "1                             0                        0   \n",
       "2                             0                        0   \n",
       "3                             0                        0   \n",
       "4                             0                        0   \n",
       "\n",
       "   relationship_ Unmarried  relationship_ Wife  race_ Asian-Pac-Islander  \\\n",
       "0                        0                   0                         0   \n",
       "1                        0                   0                         0   \n",
       "2                        0                   0                         0   \n",
       "3                        0                   0                         0   \n",
       "4                        0                   1                         0   \n",
       "\n",
       "   race_ Black  race_ Other  race_ White  sex_ Male  \n",
       "0            0            0            1          1  \n",
       "1            0            0            1          1  \n",
       "2            0            0            1          1  \n",
       "3            1            0            0          1  \n",
       "4            1            0            0          0  \n",
       "\n",
       "[5 rows x 50 columns]"
      ]
     },
     "execution_count": 30,
     "metadata": {},
     "output_type": "execute_result"
    }
   ],
   "source": [
    "categorial_attr = ['work-class', 'education', 'marital-status', 'occupation', 'relationship', 'race', 'sex']\n",
    "df_adult = adult_data[categorial_attr]\n",
    "df_adult = pd.get_dummies(df_adult, drop_first=True)\n",
    "target = pd.get_dummies(adult_data['target'], drop_first=True)\n",
    "df_adult.head()"
   ]
  },
  {
   "cell_type": "code",
   "execution_count": 31,
   "metadata": {
    "ExecuteTime": {
     "end_time": "2019-04-24T12:10:28.188605Z",
     "start_time": "2019-04-24T12:10:28.172960Z"
    }
   },
   "outputs": [],
   "source": [
    "df_test = adult_test[categorial_attr]\n",
    "df_test = pd.get_dummies(df_test, drop_first=True)\n",
    "test_target = pd.get_dummies(adult_test['target'], drop_first=True)"
   ]
  },
  {
   "cell_type": "code",
   "execution_count": 32,
   "metadata": {
    "ExecuteTime": {
     "end_time": "2019-04-24T12:10:28.628990Z",
     "start_time": "2019-04-24T12:10:28.509751Z"
    }
   },
   "outputs": [
    {
     "name": "stderr",
     "output_type": "stream",
     "text": [
      "/home/xma/anaconda3/lib/python3.7/site-packages/sklearn/utils/validation.py:761: DataConversionWarning: A column-vector y was passed when a 1d array was expected. Please change the shape of y to (n_samples, ), for example using ravel().\n",
      "  y = column_or_1d(y, warn=True)\n"
     ]
    }
   ],
   "source": [
    "from sklearn.linear_model import LogisticRegression\n",
    "from sklearn.metrics import accuracy_score\n",
    "log_reg = LogisticRegression(solver='liblinear', multi_class='ovr')\n",
    "log_reg.fit(df_adult.values, target.values)\n",
    "\n",
    "original_acc = accuracy_score(log_reg.predict(df_adult.values), target)\n",
    "# log_reg.score(df_adult.values, target)"
   ]
  },
  {
   "cell_type": "code",
   "execution_count": 33,
   "metadata": {
    "ExecuteTime": {
     "end_time": "2019-04-24T12:10:29.002347Z",
     "start_time": "2019-04-24T12:10:28.948648Z"
    }
   },
   "outputs": [
    {
     "name": "stdout",
     "output_type": "stream",
     "text": [
      "flip sex values, accuracy reduction:  0.023672170280485405\n"
     ]
    }
   ],
   "source": [
    "# we flip the values of \"sex\"\n",
    "df_sex = df_adult.copy()\n",
    "df_sex['sex_ Male'] = df_sex['sex_ Male'].apply(lambda x: x^1)\n",
    "sex_acc = accuracy_score(log_reg.predict(df_sex.values), target) # accuracy reduces 0.02\n",
    "print('flip sex values, accuracy reduction: ', original_acc-sex_acc)"
   ]
  },
  {
   "cell_type": "code",
   "execution_count": 24,
   "metadata": {
    "ExecuteTime": {
     "end_time": "2019-04-24T11:35:19.017756Z",
     "start_time": "2019-04-24T11:35:18.997176Z"
    }
   },
   "outputs": [
    {
     "name": "stdout",
     "output_type": "stream",
     "text": [
      "flip race black accuracy reduction:  0.0029175784099197966\n"
     ]
    }
   ],
   "source": [
    "# flip the values of 'race black'\n",
    "df_race = df_adult.copy()\n",
    "df_race['race_ Black'] = df_race['race_ Black'].apply(lambda x: x^1)\n",
    "race_acc = accuracy_score(log_reg.predict(df_race.values), target) # accuracy reduces 0.003\n",
    "print('flip race black accuracy reduction: ', original_acc-race_acc)"
   ]
  },
  {
   "cell_type": "code",
   "execution_count": 25,
   "metadata": {
    "ExecuteTime": {
     "end_time": "2019-04-24T11:37:05.431534Z",
     "start_time": "2019-04-24T11:36:16.155370Z"
    }
   },
   "outputs": [
    {
     "name": "stderr",
     "output_type": "stream",
     "text": [
      "/home/xma/anaconda3/lib/python3.7/site-packages/sklearn/utils/validation.py:761: DataConversionWarning: A column-vector y was passed when a 1d array was expected. Please change the shape of y to (n_samples, ), for example using ravel().\n",
      "  y = column_or_1d(y, warn=True)\n"
     ]
    }
   ],
   "source": [
    "from sklearn import svm\n",
    "svm_clf = svm.SVC(gamma='scale')\n",
    "svm_clf.fit(df_adult.values, target.values)\n",
    "svm_accuracy = svm_clf.score(df_adult.values, target)"
   ]
  },
  {
   "cell_type": "code",
   "execution_count": 26,
   "metadata": {
    "ExecuteTime": {
     "end_time": "2019-04-24T11:39:35.659651Z",
     "start_time": "2019-04-24T11:38:57.904485Z"
    }
   },
   "outputs": [
    {
     "name": "stdout",
     "output_type": "stream",
     "text": [
      "flip sex values, accuracy reduciton:  0.0019229494065380326\n",
      "flip race black values, accuracy reduciton:  0.0010609376036071483\n"
     ]
    }
   ],
   "source": [
    "svm_sex_acc = accuracy_score(svm_clf.predict(df_sex.values), target)\n",
    "svm_race_acc = accuracy_score(svm_clf.predict(df_race.values), target)\n",
    "print('flip sex values, accuracy reduciton: ', svm_accuracy - svm_sex_acc)\n",
    "print('flip race black values, accuracy reduciton: ', svm_accuracy - svm_race_acc)"
   ]
  },
  {
   "cell_type": "code",
   "execution_count": null,
   "metadata": {},
   "outputs": [],
   "source": []
  }
 ],
 "metadata": {
  "kernelspec": {
   "display_name": "Python 3",
   "language": "python",
   "name": "python3"
  },
  "language_info": {
   "codemirror_mode": {
    "name": "ipython",
    "version": 3
   },
   "file_extension": ".py",
   "mimetype": "text/x-python",
   "name": "python",
   "nbconvert_exporter": "python",
   "pygments_lexer": "ipython3",
   "version": "3.6.7"
  },
  "toc": {
   "base_numbering": 1,
   "nav_menu": {},
   "number_sections": true,
   "sideBar": true,
   "skip_h1_title": false,
   "title_cell": "Table of Contents",
   "title_sidebar": "Contents",
   "toc_cell": false,
   "toc_position": {},
   "toc_section_display": true,
   "toc_window_display": false
  }
 },
 "nbformat": 4,
 "nbformat_minor": 2
}
